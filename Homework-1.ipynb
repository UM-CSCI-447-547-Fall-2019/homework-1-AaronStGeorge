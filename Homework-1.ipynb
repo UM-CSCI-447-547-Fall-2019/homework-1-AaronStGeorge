{
 "cells": [
  {
   "cell_type": "markdown",
   "metadata": {},
   "source": [
    "# Homework 1: Reading data and regression\n",
    "## Due September 5th\n",
    "\n",
    "In class we've been working on developing the tools for linear regression.  In this homework, we'll use those tools to show that one of the original 'big data' problems can be solved quite credibly with ordinary least squares.  Note that this exercise is primarily intended to do two things: 1) provide you with some practice gathering data, and 2) evaluate your ability to reason somewhat abstractly about models.  With respect to the second point, it is in your grade's interest to provide complete and well-reasoned answers to narrative questions posed.  A correct answer can be awarded very few points if its reasoning is absent or unclear, and an incorrect answer can be awarded full points if it is well argued.   \n",
    "\n",
    "Please turn in your work via github classroom.\n",
    "\n",
    "## The big one\n",
    "If you've ever lived in an area prone to seismic activity, you know that people are always a little apprehensive about *the big one*, that giant earthquake (Magnitude greater than 7) that is going to break the pots and collapse the overpasses.  However, the big one rarely happens... until it does.  What happens more frequently is smaller earthquakes.  And even more frequently than that, even smaller earthquakes.  In fact, it's long been understood that earthquake frequency has an inverse relationship with magnitude.  Here, we're going to quantify that relationship for the west coast of the US.  \n",
    "\n",
    "## Data wrangling\n",
    "The first thing that we'll need to do is to aquire a dataset that can help us say something about earthquake frequency.  Fortunately, the United States Geologic Survey keeps such a database.  \n",
    "\n",
    "First, navigate to https://earthquake.usgs.gov/earthquakes/search/.  This is the USGS' central repository for earthquake data.  We'll be interested in data from the last twenty years.  Enter the appropriate date.  Next, we're interested in data from the west coast of the lower 48.  Use the Custom Geographic Region button on the right side of the page, followed by the Draw Rectangle on the Map button.  Draw a rectangle around the west coast, from the Canadian to Mexican border.  Next, open the Output Options tab and select .csv (comma separated values, a plain text format).  Finally, under Limit Results, enter 19999 (the site will throw an error if you make this value bigger).  This series of commands will deliver the ~20k most recent earthquakes of all sizes to occur in this region of the world.  It may take a moment for their server to pull your query together. Download the file.\n",
    "\n",
    "Next, import the data into ipython.  This is easily done with [Pandas' read_csv function](https://pandas.pydata.org/pandas-docs/stable/reference/api/pandas.read_csv.html)."
   ]
  },
  {
   "cell_type": "code",
   "execution_count": 1,
   "metadata": {},
   "outputs": [],
   "source": [
    "%matplotlib inline\n",
    "\n",
    "# Use pandas to import the earthquake data file here\n",
    "import pandas as pd \n",
    "\n",
    "eq_df = pd.read_csv('datasets/west_coast_earthquakes.csv')"
   ]
  },
  {
   "cell_type": "markdown",
   "metadata": {},
   "source": [
    "Interrogate the Pandas dataframe for the available fields using its built in method 'keys'\n"
   ]
  },
  {
   "cell_type": "code",
   "execution_count": 2,
   "metadata": {},
   "outputs": [
    {
     "data": {
      "text/plain": [
       "<bound method NDFrame.keys of                            time   latitude   longitude   depth   mag magType  \\\n",
       "0      2019-08-30T23:07:54.670Z  39.480499 -122.950996  14.050  2.54      md   \n",
       "1      2019-08-30T19:54:43.370Z  36.207667 -117.856500   2.980  2.52      ml   \n",
       "2      2019-08-30T19:03:58.240Z  37.469334 -118.845665   5.650  2.67      md   \n",
       "3      2019-08-30T16:38:20.570Z  37.466667 -118.844002   5.230  2.64      md   \n",
       "4      2019-08-30T14:52:41.390Z  37.364834 -118.525169  10.720  2.50      ml   \n",
       "...                         ...        ...         ...     ...   ...     ...   \n",
       "19994  2005-07-24T03:33:14.980Z  46.184333 -122.198500  -1.760  2.80      md   \n",
       "19995  2005-07-23T20:29:43.900Z  46.196667 -122.194000  -1.939  2.60      md   \n",
       "19996  2005-07-23T15:30:07.300Z  46.203167 -122.195667  -1.693  2.50      md   \n",
       "19997  2005-07-23T12:31:27.830Z  38.796333 -122.793833   3.092  3.19      ml   \n",
       "19998  2005-07-23T09:38:19.450Z  46.196333 -122.191833  -1.729  3.20      md   \n",
       "\n",
       "        nst    gap      dmin   rms  ...                   updated  \\\n",
       "0      30.0   51.0  0.198000  0.16  ...  2019-08-30T23:20:04.829Z   \n",
       "1      29.0   66.0  0.089910  0.18  ...  2019-08-30T20:05:44.800Z   \n",
       "2      27.0  133.0       NaN  0.05  ...  2019-08-30T21:17:03.530Z   \n",
       "3      24.0  134.0  0.123700  0.05  ...  2019-08-30T18:53:02.897Z   \n",
       "4      21.0  201.0  0.032510  0.05  ...  2019-08-30T17:15:03.593Z   \n",
       "...     ...    ...       ...   ...  ...                       ...   \n",
       "19994  10.0  137.0       NaN  0.25  ...  2016-07-22T21:46:30.440Z   \n",
       "19995  13.0  100.0       NaN  0.18  ...  2016-07-22T21:46:29.720Z   \n",
       "19996   9.0   90.0  0.007647  0.25  ...  2016-07-22T21:46:29.350Z   \n",
       "19997  56.0   38.0  0.011710  0.06  ...  2017-01-11T13:52:09.760Z   \n",
       "19998  28.0   46.0       NaN  0.17  ...  2016-07-22T21:46:28.380Z   \n",
       "\n",
       "                                   place        type horizontalError  \\\n",
       "0            8km N of Lake Pillsbury, CA  earthquake           0.290   \n",
       "1                16km ESE of Olancha, CA  earthquake           0.270   \n",
       "2              18km SW of Toms Place, CA  earthquake           0.270   \n",
       "3              18km SW of Toms Place, CA  earthquake           0.310   \n",
       "4               6km W of West Bishop, CA  earthquake           0.860   \n",
       "...                                  ...         ...             ...   \n",
       "19994  Mount St. Helens area, Washington  earthquake             NaN   \n",
       "19995  Mount St. Helens area, Washington  earthquake           0.028   \n",
       "19996  Mount St. Helens area, Washington  earthquake             NaN   \n",
       "19997                Northern California  earthquake           0.130   \n",
       "19998  Mount St. Helens area, Washington  earthquake           0.354   \n",
       "\n",
       "      depthError  magError  magNst     status  locationSource magSource  \n",
       "0           0.71     0.120    23.0  automatic              nc        nc  \n",
       "1           0.98     0.098    25.0  automatic              ci        ci  \n",
       "2           1.68     0.260    28.0  automatic              nc        nc  \n",
       "3           2.13     0.280    25.0  automatic              nc        nc  \n",
       "4           1.22     0.137    12.0  automatic              nc        nc  \n",
       "...          ...       ...     ...        ...             ...       ...  \n",
       "19994        NaN     0.030     4.0   reviewed              uw        uw  \n",
       "19995       0.08     0.030     4.0   reviewed              uw        uw  \n",
       "19996        NaN     0.040     3.0   reviewed              uw        uw  \n",
       "19997       0.25       NaN    10.0   reviewed              nc        nc  \n",
       "19998       0.37     0.020     8.0   reviewed              uw        uw  \n",
       "\n",
       "[19999 rows x 22 columns]>"
      ]
     },
     "execution_count": 2,
     "metadata": {},
     "output_type": "execute_result"
    }
   ],
   "source": [
    "eq_df.keys"
   ]
  },
  {
   "cell_type": "markdown",
   "metadata": {},
   "source": [
    "We're primarily interested in determining the relationship between relative frequency and magnitude.  Extract the magnitude variable from the pandas data frame using the 'mag' key.  \n",
    "\n",
    "Next, you'll need to determine the number of earthquakes that occured in the data as a function of magnitude.  This is easily done by deciding on a set of bins, and then counting the number of items in each bin.  This is also known as a [histogram](https://docs.scipy.org/doc/numpy/reference/generated/numpy.histogram.html), and is easily computed using either numpy or matplotlib.  You'll want to use a fairly large number of bins, say 50 (equally spaced).  *Note that the histogram function provided by either of the above libraries returns total counts rather than relative frequencies: you'll need to compute relative frequencies by dividing the returned counts by the total number of earthquakes in the dataset.*"
   ]
  },
  {
   "cell_type": "code",
   "execution_count": null,
   "metadata": {},
   "outputs": [],
   "source": []
  },
  {
   "cell_type": "markdown",
   "metadata": {},
   "source": [
    "**(20 pts) Make a plot with bin centroids on the $x$-axis and relative frequency on the $y$-axis.  Based on your results, please provide a few sentences describing whether the model $y = w_0 + w_1 x$ is a good fit to the data, if $x$ represents earthquake magnitude and $y$ represents relative frequency.**\n",
    "\n",
    "The model $y = w_0 + w_1 x$ would not be a good fit to the data. Such a model assumes that the relationship between $x$ (the magnitude) and $y$ (the relative frequency) is linear. One can see by looking at the histogram below that the relationship is exponential in some way. Put another way, the residual with a exponential rather than linear model would be much lower."
   ]
  },
  {
   "cell_type": "code",
   "execution_count": 3,
   "metadata": {},
   "outputs": [
    {
     "data": {
      "image/png": "[encoded data removed]",
      "text/plain": [
       "<Figure size 432x288 with 1 Axes>"
      ]
     },
     "metadata": {
      "needs_background": "light"
     },
     "output_type": "display_data"
    }
   ],
   "source": [
    "import matplotlib.pyplot as plt\n",
    "import matplotlib.ticker as ticker\n",
    "import numpy as np\n",
    "\n",
    "fig, ax = plt.subplots()\n",
    "\n",
    "relative_freq, bins, _ = ax.hist(\n",
    "    eq_df.mag, bins=50, weights=np.ones(len(eq_df.mag)) / len(eq_df.mag))\n",
    "centroids = bins[:-1] + (bins[1] - bins[0])/2\n",
    "\n",
    "ax.set_title('Relative Frequency of Earthquakes by Magnitude')\n",
    "ax.set_xlabel('Magnitude')\n",
    "ax.set_ylabel('Relative Frequency')\n",
    "ax.set_xticks(centroids[::5])\n",
    "ax.xaxis.set_major_formatter(ticker.FormatStrFormatter(\"%.1f\"))\n",
    "ax.set_xticks(centroids, minor=True)\n",
    "\n",
    "plt.show()"
   ]
  },
  {
   "cell_type": "markdown",
   "metadata": {},
   "source": [
    "As it turns out, a physical model that gives the predicted relative frequency of earthquakes of different magnitudes can be derived from physics, and is given by a so-called *power-law*\n",
    "$$\n",
    "y = ax^b\n",
    "$$\n",
    "**(20pts) If you wanted to directly fit this power-law model to these data, would you be able to use the linear regression code that we've already developed to do so?  If so, how?  If not, why not?**\n",
    "\n",
    "Linear regression tries to fit the data to the model $y = w_0 + w_1 x$, a linear model. Since both the data and physics tells us that our data is not represented by a linear model, but instead a power law, linear regression would not fit the data particularly accurately."
   ]
  },
  {
   "cell_type": "markdown",
   "metadata": {},
   "source": [
    " As it turns out, it is not possible to use linear regression to fit this model directly.  However, it can be done by using a clever transformation of the data.  **(20pts) Plot the base-10 logarithm of the event counts.  Now does a linear model seem like a good fit?  If the power law is a good fit to the untransformed data, why does it make sense that a linear model should fit the log-transformed data (HINT: take the logarithm of both sides of the power law)**\n",
    "\n",
    "**(UPDATE!)** I should have noted this before: The earthquake magnitude $x$ has *already* been log-transformed, which is to say that a magnitude 7 is 10 times more powerful than a magnitude 6.  The power law stated above applies to the earthquake strength prior to it having the logarithm taken.  As such, a more reasonable way to state the question would be as follows: A physical model that gives the predicted relative frequency of earthquakes of different magnitudes can be derived from physics and is given by a so-called *power-law*\n",
    "$$\n",
    "y = a P^b,\n",
    "$$\n",
    "where $P=10^x$. Show that taking the logarithm of both sides of this equation leads to a linear relationship between the earthquake magnitude $x$ and the log-frequency $\\text{log}_{10}(y)$. \n",
    "\n",
    "Starting from the equation $y = a (10^x)^b $ if we take the log of both sides we arrive at $\\text{log}_{10}(y) = \\text{log}_{10}(a) + b x$. The log of $y$ is now related to $x$ only by a constant term and a multiplier, no exponentials. Also known as a linear relationship. One can also see by plotting the points with a logarithmic scale the "
   ]
  },
  {
   "cell_type": "code",
   "execution_count": 4,
   "metadata": {},
   "outputs": [
    {
     "data": {
      "image/png": "[encoded data removed]",
      "text/plain": [
       "<Figure size 432x288 with 1 Axes>"
      ]
     },
     "metadata": {
      "needs_background": "light"
     },
     "output_type": "display_data"
    }
   ],
   "source": [
    "plt.plot(centroids, relative_freq, '.')\n",
    "ax.set_title('Relative Frequency of Earthquakes by Magnitude')\n",
    "plt.xlabel('Magnitude')\n",
    "plt.ylabel('Relative Frequency (log scale)')\n",
    "plt.yscale('log')\n",
    "\n",
    "plt.show()"
   ]
  },
  {
   "cell_type": "markdown",
   "metadata": {},
   "source": [
    "Finally, **(40pts) use one of the methods that you developed for linear regression in class to fit a line to the log-transformed counts.  What is the slope of that line?  Is the model a good fit for all sizes of earthquake?**\n",
    "\n",
    "!Answers go here"
   ]
  },
  {
   "cell_type": "code",
   "execution_count": 68,
   "metadata": {},
   "outputs": [
    {
     "data": {
      "image/png": "[encoded data removed]",
      "text/plain": [
       "<Figure size 432x288 with 2 Axes>"
      ]
     },
     "metadata": {
      "needs_background": "light"
     },
     "output_type": "display_data"
    },
    {
     "name": "stdout",
     "output_type": "stream",
     "text": [
      "Slope of line fit to log transformed relative frequencies: -0.9547418672849235\n"
     ]
    }
   ],
   "source": [
    "from numpy import linalg as LA\n",
    "\n",
    "# Compute the Vandermonde matrix of degree d\n",
    "#  input:\n",
    "#    x:np.array(n,):f64 - input data\n",
    "#    d:int              - degree\n",
    "#  output:\n",
    "#    np.array(n,d+1):f64 - Vandermonde matrix\n",
    "def vendermonde_matrix(x, d):\n",
    "    x_matrix = np.ones((len(x), d+1))\n",
    "    for i in range(1, d+1):\n",
    "        x_matrix[:, i] = x**i\n",
    "    return x_matrix\n",
    "\n",
    "# Remove data in the circumstances where there\n",
    "# where too few earthquakes of that magnitude \n",
    "# to register anything above a zero relative \n",
    "# frequency.\n",
    "zero_mask = relative_freq > 0\n",
    "\n",
    "# compute linear solution\n",
    "ven_m = vendermonde_matrix(centroids[zero_mask], 1)\n",
    "w = LA.solve(np.dot(ven_m.T, ven_m), np.dot(ven_m.T, np.log10(relative_freq[zero_mask])))\n",
    "\n",
    "# plot\n",
    "xs = np.linspace(centroids.min(),centroids.max(), 200)\n",
    "\n",
    "fig, axs = plt.subplots(nrows=2, ncols=1, sharex=True)\n",
    "\n",
    "fig.text(0.5, 0.004, 'Magnitude', ha='center')\n",
    "fig.text(0.004, 0.5, 'Relative Frequency', va='center', rotation='vertical')\n",
    "\n",
    "for i in range(2):\n",
    "    axs[i].plot(centroids[zero_mask], relative_freq[zero_mask], 'ro')\n",
    "    axs[i].plot(xs, np.power(10, w[0]) * np.power(10, w[1] * xs))\n",
    " \n",
    "fig.suptitle('Relative Frequency of Earthquakes by Magnitude')\n",
    "axs[0].set_yscale('log', basey=10)\n",
    "axs[1].set_yscale('linear')\n",
    "\n",
    "plt.show()\n",
    "\n",
    "print(f'Slope of line fit to log transformed relative frequencies: {w[1]}')"
   ]
  },
  {
   "cell_type": "markdown",
   "metadata": {},
   "source": [
    "The model appears to be less predictive as we move into the higher magnitude earthquakes. This could simply be because of the lack of data given the infrequency of theses monster quakes, it's also possible that a higher degree polynomial could fit the data better."
   ]
  }
 ],
 "metadata": {
  "kernelspec": {
   "display_name": "Python 3",
   "language": "python",
   "name": "python3"
  },
  "language_info": {
   "codemirror_mode": {
    "name": "ipython",
    "version": 3
   },
   "file_extension": ".py",
   "mimetype": "text/x-python",
   "name": "python",
   "nbconvert_exporter": "python",
   "pygments_lexer": "ipython3",
   "version": "3.7.4"
  },
  "varInspector": {
   "cols": {
    "lenName": 16,
    "lenType": 16,
    "lenVar": 40
   },
   "kernels_config": {
    "python": {
     "delete_cmd_postfix": "",
     "delete_cmd_prefix": "del ",
     "library": "var_list.py",
     "varRefreshCmd": "print(var_dic_list())"
    },
    "r": {
     "delete_cmd_postfix": ") ",
     "delete_cmd_prefix": "rm(",
     "library": "var_list.r",
     "varRefreshCmd": "cat(var_dic_list()) "
    }
   },
   "types_to_exclude": [
    "module",
    "function",
    "builtin_function_or_method",
    "instance",
    "_Feature"
   ],
   "window_display": false
  }
 },
 "nbformat": 4,
 "nbformat_minor": 2
}
